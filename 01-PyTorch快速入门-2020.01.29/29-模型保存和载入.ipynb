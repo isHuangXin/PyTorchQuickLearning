{
 "cells": [
  {
   "cell_type": "code",
   "execution_count": 2,
   "metadata": {},
   "outputs": [],
   "source": [
    "import numpy as np\n",
    "from torch import nn, optim\n",
    "from torch.autograd import Variable\n",
    "from torchvision import datasets, transforms\n",
    "from torch.utils.data import DataLoader\n",
    "import torch"
   ]
  },
  {
   "cell_type": "code",
   "execution_count": 3,
   "metadata": {},
   "outputs": [],
   "source": [
    "# 训练集\n",
    "train_dataset = datasets.MNIST(root='./',\n",
    "                               train=True,\n",
    "                               transform=transforms.ToTensor(),\n",
    "                               download=True)\n",
    "# 测试集\n",
    "test_dataset = datasets.MNIST(root='./',\n",
    "                               train=False,\n",
    "                               transform=transforms.ToTensor(),\n",
    "                               download=True)     "
   ]
  },
  {
   "cell_type": "code",
   "execution_count": 4,
   "metadata": {},
   "outputs": [],
   "source": [
    "# 批次大小\n",
    "batch_size = 64\n",
    "\n",
    "# 装载训练集\n",
    "train_loader = DataLoader(dataset=train_dataset,\n",
    "                          batch_size=batch_size,\n",
    "                          shuffle=True)\n",
    "# 装载测试集\n",
    "test_loader = DataLoader(dataset=test_dataset,\n",
    "                          batch_size=batch_size,\n",
    "                          shuffle=True)"
   ]
  },
  {
   "cell_type": "code",
   "execution_count": 5,
   "metadata": {},
   "outputs": [
    {
     "name": "stdout",
     "output_type": "stream",
     "text": [
      "torch.Size([64, 1, 28, 28])\n",
      "torch.Size([64])\n"
     ]
    }
   ],
   "source": [
    "for i,data in enumerate(train_loader):\n",
    "    inputs,labels = data\n",
    "    # print(inputs)\n",
    "    # print(labels)\n",
    "    print(inputs.shape)\n",
    "    print(labels.shape)\n",
    "    break"
   ]
  },
  {
   "cell_type": "code",
   "execution_count": 6,
   "metadata": {},
   "outputs": [
    {
     "data": {
      "text/plain": [
       "tensor([9, 4, 9, 8, 7, 2, 1, 7, 7, 2, 7, 9, 5, 3, 7, 9, 7, 3, 5, 0, 6, 2, 7, 4,\n",
       "        8, 8, 9, 6, 2, 5, 7, 6, 5, 7, 0, 1, 1, 1, 5, 8, 4, 5, 6, 5, 4, 0, 8, 3,\n",
       "        9, 3, 8, 3, 8, 4, 5, 8, 8, 0, 7, 9, 5, 2, 4, 2])"
      ]
     },
     "execution_count": 6,
     "metadata": {},
     "output_type": "execute_result"
    }
   ],
   "source": [
    "labels"
   ]
  },
  {
   "cell_type": "code",
   "execution_count": 7,
   "metadata": {},
   "outputs": [
    {
     "data": {
      "text/plain": [
       "938"
      ]
     },
     "execution_count": 7,
     "metadata": {},
     "output_type": "execute_result"
    }
   ],
   "source": [
    "len(train_loader)"
   ]
  },
  {
   "cell_type": "code",
   "execution_count": 8,
   "metadata": {},
   "outputs": [],
   "source": [
    "# 定义网络结构\n",
    "# input_size输入特征的大小\n",
    "# hidden_size, LSTM模块的数量\n",
    "# num_layer, LSTM的层数\n",
    "# LSTM默认input(seq_len, batch, feature)\n",
    "# batch_first=True,input和output(seq_len, batch, feature)\n",
    "class LSTM(nn.Module):\n",
    "    def __init__(self):\n",
    "        super(LSTM, self).__init__()\n",
    "        self.lstm = torch.nn.LSTM(\n",
    "            input_size=28,\n",
    "            hidden_size=64,\n",
    "            num_layers=1,\n",
    "            batch_first=True\n",
    "        )\n",
    "        self.out = torch.nn.Linear(in_features=64, out_features=10)\n",
    "        self.softmax = torch.nn.Softmax(dim=1)\n",
    "        \n",
    "    def forward(self, x):\n",
    "        # (batch, seq_len, feature)\n",
    "        x = x.view(-1,28,28)\n",
    "        # output:[batch, seq_len, hidden_size]包含每个序列的输出结果\n",
    "        # 虽然LSTM的batch_first为True, 但是h_n, c_n的第一个维度还是num_layers\n",
    "        # h_n:[num_layers, batch, hidden_size]只包含最后一个序列的输出结果\n",
    "        # c_n:[num_layers, batch, hidden_size]只包含最后一个序列的输出结果\n",
    "        output, (h_n, c_n)=self.lstm(x)\n",
    "        output_in_last_timestep = h_n[-1,:,:]\n",
    "        x = self.out(output_in_last_timestep)\n",
    "        x = self.softmax(x)\n",
    "        return x"
   ]
  },
  {
   "cell_type": "code",
   "execution_count": 9,
   "metadata": {},
   "outputs": [],
   "source": [
    "LR = 0.0003\n",
    "# 定义模型\n",
    "model = LSTM()\n",
    "# 定义损失函数\n",
    "mse_loss = nn.CrossEntropyLoss()\n",
    "# 定义优化器\n",
    "optimizer = optim.Adam(model.parameters(), LR)"
   ]
  },
  {
   "cell_type": "code",
   "execution_count": 10,
   "metadata": {},
   "outputs": [],
   "source": [
    "def train():\n",
    "    # 训练状态\n",
    "    model.train()\n",
    "    for i, data in enumerate(train_loader):\n",
    "        # 获得一个批次的数据和标签\n",
    "        inputs, labels = data\n",
    "        # 获得模型预测结构 (64,10)\n",
    "        out = model(inputs)\n",
    "        # 交叉熵代价函数out(batch,C), labels(batch)\n",
    "        loss = mse_loss(out, labels)\n",
    "        # 梯度清0\n",
    "        optimizer.zero_grad()\n",
    "        # 计算梯度\n",
    "        loss.backward()\n",
    "        # 修改权值\n",
    "        optimizer.step()\n",
    "        \n",
    "def test():\n",
    "    # 测试状态\n",
    "    model.eval()\n",
    "    correct = 0\n",
    "    for i, data in enumerate(test_loader):\n",
    "        # 获得一个批次的数据和标签\n",
    "        inputs, labels = data\n",
    "        # 获得模型预测结构（64,10）\n",
    "        out = model(inputs)\n",
    "        # 获得最大值，以及最大值的位置\n",
    "        _, priedicted = torch.max(out, 1)\n",
    "        # 预测正确的数量\n",
    "        correct += (predicted == labels).sum()\n",
    "    print(\"Test acc:{0}\".format(correct.item()/len(test_dataset)))\n",
    "    \n",
    "    correct = 0\n",
    "    for i, data in enumerate(test_loader):\n",
    "        # 获得一个批次的数据和标签\n",
    "        inputs, labels = data\n",
    "        # 获得模型预测结构（64,10）\n",
    "        out = model(inputs)\n",
    "        # 获得最大值，以及最大值的位置\n",
    "        _, priedicted = torch.max(out, 1)\n",
    "        # 预测正确的数量\n",
    "        correct += (predicted == labels).sum()\n",
    "    print(\"Test acc:{0}\".format(correct.item()/len(train_dataset)))"
   ]
  },
  {
   "cell_type": "code",
   "execution_count": null,
   "metadata": {},
   "outputs": [],
   "source": [
    "for epoch in range(10):\n",
    "    print('epoch:', epoch)\n",
    "    train()\n",
    "    test()"
   ]
  },
  {
   "cell_type": "code",
   "execution_count": null,
   "metadata": {},
   "outputs": [],
   "source": [
    "# 模型保存\n",
    "torch.save(model.state_dict(), 'model/my_model.pth')"
   ]
  },
  {
   "cell_type": "code",
   "execution_count": null,
   "metadata": {},
   "outputs": [],
   "source": [
    "# 模型载入\n",
    "# 载入训练好的模型参数\n",
    "model.load_state_dict(torch.load('model/my_model.pth'))"
   ]
  },
  {
   "cell_type": "code",
   "execution_count": null,
   "metadata": {},
   "outputs": [],
   "source": []
  }
 ],
 "metadata": {
  "kernelspec": {
   "display_name": "Python 3",
   "language": "python",
   "name": "python3"
  },
  "language_info": {
   "codemirror_mode": {
    "name": "ipython",
    "version": 3
   },
   "file_extension": ".py",
   "mimetype": "text/x-python",
   "name": "python",
   "nbconvert_exporter": "python",
   "pygments_lexer": "ipython3",
   "version": "3.8.5"
  }
 },
 "nbformat": 4,
 "nbformat_minor": 4
}
